{
 "cells": [
  {
   "cell_type": "code",
   "execution_count": 5,
   "id": "initial_id",
   "metadata": {
    "ExecuteTime": {
     "end_time": "2025-04-08T02:43:18.461575200Z",
     "start_time": "2025-04-08T02:43:18.402386100Z"
    }
   },
   "outputs": [],
   "source": [
    "import pickle\n",
    "from time import time\n",
    "from glob import glob\n",
    "import os\n",
    "import numpy as np\n",
    "from numpy import ndarray\n",
    "import matplotlib.pyplot as plt\n",
    "from tqdm import tqdm\n",
    "import json\n",
    "\n",
    "def compute_ber(solution: ndarray, bits: ndarray) -> float:\n",
    "    '''\n",
    "    Compute BER for the solution from QAIAs.\n",
    "\n",
    "    Firstly, both the solution from QAIAs and generated bits should be transformed into gray-coded,\n",
    "    and then compute the ber.\n",
    "\n",
    "    Reference\n",
    "    ---------\n",
    "    [1] Kim M, Venturelli D, Jamieson K. Leveraging quantum annealing for large MIMO processing in centralized radio access networks.\n",
    "        Proceedings of the ACM special interest group on data communication. 2019: 241-255.\\\n",
    "\n",
    "    Input\n",
    "    -----\n",
    "    solution: [rb*2*Nt, ], np.int\n",
    "        The binary array filled with ones and minus ones.\n",
    "\n",
    "    bits: [Nt, nbps], np.int\n",
    "        The binary array filled with ones and zeros.\n",
    "    Ouput\n",
    "    -----\n",
    "    ber: np.float\n",
    "        A scalar, the BER.\n",
    "    '''\n",
    "    solution = solution.astype(np.int32)\n",
    "    bits = bits.astype(np.int32)\n",
    "\n",
    "    # convert the bits from sionna style to constellation style\n",
    "    # Sionna QAM16 map: https://nvlabs.github.io/sionna/examples/Hello_World.html\n",
    "    '''\n",
    "    [sionna-style]\n",
    "        1011 1001 0001 0011\n",
    "        1010 1000 0000 0010\n",
    "        1110 1100 0100 0110\n",
    "        1111 1101 0101 0111\n",
    "    [constellation-style] i.e. the \"gray code\" in QuAMax paper\n",
    "        0010 0110 1110 1010\n",
    "        0011 0111 1111 1011\n",
    "        0001 0101 1101 1001\n",
    "        0000 0100 1100 1000\n",
    "    '''\n",
    "    bits_constellation = 1 - np.concatenate([bits[..., 0::2], bits[..., 1::2]], axis=-1)\n",
    "\n",
    "    # Fig. 2 from arXiv:2001.04014, the QuAMax paper converting QuAMax to gray coded\n",
    "    num_bits_per_symbol = bits_constellation.shape[1]\n",
    "    rb = num_bits_per_symbol // 2\n",
    "    bits_hat = solution.reshape(rb, 2, -1)  # [rb, c=2, Nt]\n",
    "    bits_hat = np.concatenate([bits_hat[:, 0], bits_hat[:, 1]], axis=0)  # [2*rb, Nt]\n",
    "    bits_hat = bits_hat.T.copy()  # [Nt, 2*rb]\n",
    "    bits_hat[bits_hat == -1] = 0  # convert Ising {-1, 1} to QUBO {0, 1}\n",
    "    # QuAMax => intermediate code\n",
    "    '''\n",
    "    [QuAMax-style]\n",
    "        0011 0111 1011 1111\n",
    "        0010 0110 1010 1110\n",
    "        0001 0101 1001 1101\n",
    "        0000 0100 1000 1100\n",
    "    [intermediate-style]\n",
    "        0011 0100 1011 1100\n",
    "        0010 0101 1010 1101\n",
    "        0001 0110 1001 1110\n",
    "        0000 0111 1000 1111\n",
    "    '''\n",
    "    output_bit = bits_hat.copy()  # copy b[0]\n",
    "    index = np.nonzero(bits_hat[:, rb - 1] == 1)[0]  # select even columns\n",
    "    bits_hat[index, rb:] = 1 - bits_hat[index, rb:]  # invert bits of high part (flip upside-down)\n",
    "    # Differential bit encoding, intermediate code => gray code (constellation-style)\n",
    "    for i in range(1, num_bits_per_symbol):  # b[i] = b[i] ^ b[i-1]\n",
    "        output_bit[:, i] = np.logical_xor(bits_hat[:, i], bits_hat[:, i - 1])\n",
    "    # calc BER\n",
    "    ber = np.mean(bits_constellation != output_bit)\n",
    "    return ber\n",
    "\n",
    "\n",
    "class Judger:\n",
    "\n",
    "    def __init__(self, test_cases):\n",
    "        self.test_cases = test_cases\n",
    "\n",
    "    @staticmethod\n",
    "    def infer(ising_generator, qaia_mld_solver, H, y, num_bits_per_symbol, snr):\n",
    "        J, h = ising_generator(H, y, num_bits_per_symbol, snr)\n",
    "        bits = qaia_mld_solver(J, h)\n",
    "        return bits\n",
    "\n",
    "    def benchmark(self, ising_gen, qaia_mld_solver):\n",
    "        from collections import defaultdict\n",
    "        ber_list = []\n",
    "        ZF_ber_list = []\n",
    "        avgber_per_Nt = defaultdict(list)\n",
    "        avgber_per_snr = defaultdict(list)\n",
    "        avgber_per_nbps = defaultdict(list)\n",
    "\n",
    "        avgber = 0\n",
    "        for i, case in enumerate(tqdm(self.test_cases)):\n",
    "            H, y, bits_truth, num_bits_per_symbol, snr, ZF_ber = case\n",
    "            bits_decode = self.infer(ising_gen, qaia_mld_solver, H, y, num_bits_per_symbol, snr)\n",
    "            ber = compute_ber(bits_decode, bits_truth)\n",
    "            avgber += ber\n",
    "            print(f'[case {i}] ber: {ber}, ref_ber: {ZF_ber}')\n",
    "\n",
    "            ber_list.append(ber)\n",
    "            ZF_ber_list.append(ZF_ber)\n",
    "            avgber_per_Nt[H.shape[1]].append(ber)\n",
    "            avgber_per_snr[snr].append(ber)\n",
    "            avgber_per_nbps[num_bits_per_symbol].append(ber)\n",
    "\n",
    "        print('>> avgber_per_Nt:')\n",
    "        for Nt in sorted(avgber_per_Nt):\n",
    "            print(f'  {Nt}: {np.asarray(avgber_per_Nt[Nt]).mean()}')\n",
    "        print('>> avgber_per_snr:')\n",
    "        for snr in sorted(avgber_per_snr):\n",
    "            print(f'  {snr}: {np.asarray(avgber_per_snr[snr]).mean()}')\n",
    "        print('>> avgber_per_nbps:')\n",
    "        for nbps in sorted(avgber_per_nbps):\n",
    "            print(f'  {nbps}: {np.asarray(avgber_per_nbps[nbps]).mean()}')\n",
    "\n",
    "        if 'plot':\n",
    "            from pathlib import Path\n",
    "            BASE_PATH = Path(os.getcwd())\n",
    "            LOG_PATH = BASE_PATH / 'log';\n",
    "            LOG_PATH.mkdir(exist_ok=True)\n",
    "            pairs = list(zip(ZF_ber_list, ber_list))\n",
    "            pairs.sort(reverse=True)  # decrease order by ZF_ber\n",
    "            ber_list = [ber for ZF_ber, ber in pairs]\n",
    "            ZF_ber_list = [ZF_ber for ZF_ber, ber in pairs]\n",
    "            plt.plot(ber_list, label='ours')\n",
    "            plt.plot(ZF_ber_list, label='ZF')\n",
    "            plt.ylim(0, 0.55)\n",
    "            plt.legend()\n",
    "            plt.suptitle('BER')\n",
    "            plt.tight_layout()\n",
    "            plt.savefig(LOG_PATH / 'solut.png', dpi=400)\n",
    "            plt.show()\n",
    "            plt.close()\n",
    "\n",
    "        avgber /= len(self.test_cases)\n",
    "        return avgber\n"
   ]
  },
  {
   "cell_type": "code",
   "execution_count": 6,
   "id": "a7119ec466f06c81",
   "metadata": {
    "ExecuteTime": {
     "end_time": "2025-04-08T02:43:21.085594700Z",
     "start_time": "2025-04-08T02:43:18.434386300Z"
    }
   },
   "outputs": [
    {
     "name": "stderr",
     "output_type": "stream",
     "text": [
      "  8%|▊         | 12/150 [00:00<00:01, 103.88it/s]"
     ]
    },
    {
     "name": "stdout",
     "output_type": "stream",
     "text": [
      "[case 0] ber: 0.072265625, ref_ber: 0.287109375\n",
      "[case 1] ber: 0.1640625, ref_ber: 0.48046875\n",
      "[case 2] ber: 0.2669270833333333, ref_ber: 0.4830729166666667\n",
      "[case 3] ber: 0.138671875, ref_ber: 0.224609375\n",
      "[case 4] ber: 0.3385416666666667, ref_ber: 0.4427083333333333\n",
      "[case 5] ber: 0.2994791666666667, ref_ber: 0.3854166666666667\n",
      "[case 6] ber: 0.337890625, ref_ber: 0.443359375\n",
      "[case 7] ber: 0.17578125, ref_ber: 0.40234375\n",
      "[case 8] ber: 0.19140625, ref_ber: 0.296875\n",
      "[case 9] ber: 0.11328125, ref_ber: 0.439453125\n",
      "[case 10] ber: 0.380859375, ref_ber: 0.521484375\n",
      "[case 11] ber: 0.3310546875, ref_ber: 0.466796875\n",
      "[case 12] ber: 0.2799479166666667, ref_ber: 0.4596354166666667\n",
      "[case 13] ber: 0.20442708333333334, ref_ber: 0.3294270833333333\n",
      "[case 14] ber: 0.3603515625, ref_ber: 0.470703125\n",
      "[case 15] ber: 0.345703125, ref_ber: 0.4072265625\n",
      "[case 16] ber: 0.2734375, ref_ber: 0.3723958333333333\n",
      "[case 17] ber: 0.30859375, ref_ber: 0.455078125\n",
      "[case 18] ber: 0.17578125, ref_ber: 0.4375\n",
      "[case 19] ber: 0.3072916666666667, ref_ber: 0.359375\n",
      "[case 20] ber: 0.234375, ref_ber: 0.24739583333333334\n",
      "[case 21] ber: 0.328125, ref_ber: 0.451171875\n",
      "[case 22] ber: 0.2734375, ref_ber: 0.4296875\n",
      "[case 23] ber: 0.21484375, ref_ber: 0.3359375\n",
      "[case 24] ber: 0.2760416666666667, ref_ber: 0.4088541666666667\n"
     ]
    },
    {
     "name": "stderr",
     "output_type": "stream",
     "text": [
      " 28%|██▊       | 42/150 [00:00<00:00, 135.17it/s]"
     ]
    },
    {
     "name": "stdout",
     "output_type": "stream",
     "text": [
      "[case 25] ber: 0.27734375, ref_ber: 0.4348958333333333\n",
      "[case 26] ber: 0.20052083333333334, ref_ber: 0.4401041666666667\n",
      "[case 27] ber: 0.19140625, ref_ber: 0.466796875\n",
      "[case 28] ber: 0.1796875, ref_ber: 0.466796875\n",
      "[case 29] ber: 0.189453125, ref_ber: 0.40234375\n",
      "[case 30] ber: 0.2513020833333333, ref_ber: 0.4361979166666667\n",
      "[case 31] ber: 0.32421875, ref_ber: 0.453125\n",
      "[case 32] ber: 0.16015625, ref_ber: 0.4140625\n",
      "[case 33] ber: 0.1875, ref_ber: 0.40234375\n",
      "[case 34] ber: 0.09375, ref_ber: 0.3671875\n",
      "[case 35] ber: 0.19140625, ref_ber: 0.45703125\n",
      "[case 36] ber: 0.2721354166666667, ref_ber: 0.4856770833333333\n",
      "[case 37] ber: 0.16796875, ref_ber: 0.296875\n",
      "[case 38] ber: 0.22135416666666666, ref_ber: 0.4114583333333333\n",
      "[case 39] ber: 0.1796875, ref_ber: 0.3984375\n",
      "[case 40] ber: 0.2552083333333333, ref_ber: 0.30859375\n",
      "[case 41] ber: 0.2421875, ref_ber: 0.4010416666666667\n",
      "[case 42] ber: 0.1171875, ref_ber: 0.28125\n",
      "[case 43] ber: 0.228515625, ref_ber: 0.458984375\n",
      "[case 44] ber: 0.302734375, ref_ber: 0.4609375\n",
      "[case 45] ber: 0.3515625, ref_ber: 0.4677734375\n",
      "[case 46] ber: 0.1953125, ref_ber: 0.40234375\n",
      "[case 47] ber: 0.34765625, ref_ber: 0.4609375\n",
      "[case 48] ber: 0.328125, ref_ber: 0.4453125\n",
      "[case 49] ber: 0.2864583333333333, ref_ber: 0.4348958333333333\n",
      "[case 50] ber: 0.330078125, ref_ber: 0.490234375\n",
      "[case 51] ber: 0.23046875, ref_ber: 0.3841145833333333\n",
      "[case 52] ber: 0.185546875, ref_ber: 0.41796875\n",
      "[case 53] ber: 0.2604166666666667, ref_ber: 0.5104166666666666\n"
     ]
    },
    {
     "name": "stderr",
     "output_type": "stream",
     "text": [
      " 49%|████▉     | 74/150 [00:00<00:00, 141.94it/s]"
     ]
    },
    {
     "name": "stdout",
     "output_type": "stream",
     "text": [
      "[case 54] ber: 0.3740234375, ref_ber: 0.4765625\n",
      "[case 55] ber: 0.318359375, ref_ber: 0.4228515625\n",
      "[case 56] ber: 0.2890625, ref_ber: 0.484375\n",
      "[case 57] ber: 0.19140625, ref_ber: 0.44140625\n",
      "[case 58] ber: 0.2786458333333333, ref_ber: 0.4947916666666667\n",
      "[case 59] ber: 0.3098958333333333, ref_ber: 0.4921875\n",
      "[case 60] ber: 0.16015625, ref_ber: 0.42578125\n",
      "[case 61] ber: 0.34375, ref_ber: 0.474609375\n",
      "[case 62] ber: 0.16015625, ref_ber: 0.4140625\n",
      "[case 63] ber: 0.1484375, ref_ber: 0.36328125\n",
      "[case 64] ber: 0.173828125, ref_ber: 0.3125\n",
      "[case 65] ber: 0.140625, ref_ber: 0.302734375\n",
      "[case 66] ber: 0.15625, ref_ber: 0.44140625\n",
      "[case 67] ber: 0.15234375, ref_ber: 0.453125\n",
      "[case 68] ber: 0.17578125, ref_ber: 0.4453125\n",
      "[case 69] ber: 0.2916666666666667, ref_ber: 0.453125\n",
      "[case 70] ber: 0.2916666666666667, ref_ber: 0.4205729166666667\n",
      "[case 71] ber: 0.326171875, ref_ber: 0.47265625\n",
      "[case 72] ber: 0.23697916666666666, ref_ber: 0.2708333333333333\n",
      "[case 73] ber: 0.3369140625, ref_ber: 0.3798828125\n",
      "[case 74] ber: 0.349609375, ref_ber: 0.4140625\n",
      "[case 75] ber: 0.17578125, ref_ber: 0.435546875\n",
      "[case 76] ber: 0.205078125, ref_ber: 0.5\n",
      "[case 77] ber: 0.22005208333333334, ref_ber: 0.2643229166666667\n",
      "[case 78] ber: 0.337890625, ref_ber: 0.462890625\n",
      "[case 79] ber: 0.3125, ref_ber: 0.4765625\n",
      "[case 80] ber: 0.22395833333333334, ref_ber: 0.4479166666666667\n",
      "[case 81] ber: 0.17578125, ref_ber: 0.4375\n",
      "[case 82] ber: 0.19140625, ref_ber: 0.39453125\n",
      "[case 83] ber: 0.2864583333333333, ref_ber: 0.4348958333333333\n",
      "[case 84] ber: 0.1796875, ref_ber: 0.46875\n",
      "[case 85] ber: 0.18359375, ref_ber: 0.46484375\n",
      "[case 86] ber: 0.193359375, ref_ber: 0.455078125\n",
      "[case 87] ber: 0.10546875, ref_ber: 0.29296875\n"
     ]
    },
    {
     "name": "stderr",
     "output_type": "stream",
     "text": [
      " 73%|███████▎  | 109/150 [00:00<00:00, 154.23it/s]"
     ]
    },
    {
     "name": "stdout",
     "output_type": "stream",
     "text": [
      "[case 88] ber: 0.28515625, ref_ber: 0.47265625\n",
      "[case 89] ber: 0.234375, ref_ber: 0.359375\n",
      "[case 90] ber: 0.25, ref_ber: 0.390625\n",
      "[case 91] ber: 0.3525390625, ref_ber: 0.330078125\n",
      "[case 92] ber: 0.154296875, ref_ber: 0.392578125\n",
      "[case 93] ber: 0.150390625, ref_ber: 0.419921875\n",
      "[case 94] ber: 0.1171875, ref_ber: 0.41015625\n",
      "[case 95] ber: 0.32421875, ref_ber: 0.478515625\n",
      "[case 96] ber: 0.16015625, ref_ber: 0.45703125\n",
      "[case 97] ber: 0.3098958333333333, ref_ber: 0.4270833333333333\n",
      "[case 98] ber: 0.3515625, ref_ber: 0.48046875\n",
      "[case 99] ber: 0.3642578125, ref_ber: 0.521484375\n",
      "[case 100] ber: 0.12890625, ref_ber: 0.34375\n",
      "[case 101] ber: 0.3033854166666667, ref_ber: 0.4375\n",
      "[case 102] ber: 0.23177083333333334, ref_ber: 0.4140625\n",
      "[case 103] ber: 0.15625, ref_ber: 0.5078125\n",
      "[case 104] ber: 0.2604166666666667, ref_ber: 0.3802083333333333\n",
      "[case 105] ber: 0.2630208333333333, ref_ber: 0.3932291666666667\n",
      "[case 106] ber: 0.33203125, ref_ber: 0.400390625\n",
      "[case 107] ber: 0.15625, ref_ber: 0.4140625\n",
      "[case 108] ber: 0.23307291666666666, ref_ber: 0.3450520833333333\n",
      "[case 109] ber: 0.29296875, ref_ber: 0.4596354166666667\n",
      "[case 110] ber: 0.302734375, ref_ber: 0.4306640625\n",
      "[case 111] ber: 0.109375, ref_ber: 0.359375\n",
      "[case 112] ber: 0.1484375, ref_ber: 0.38671875\n",
      "[case 113] ber: 0.12890625, ref_ber: 0.25390625\n",
      "[case 114] ber: 0.2825520833333333, ref_ber: 0.5013020833333334\n",
      "[case 115] ber: 0.2838541666666667, ref_ber: 0.3984375\n",
      "[case 116] ber: 0.193359375, ref_ber: 0.48046875\n",
      "[case 117] ber: 0.3333333333333333, ref_ber: 0.4557291666666667\n",
      "[case 118] ber: 0.16015625, ref_ber: 0.28125\n"
     ]
    },
    {
     "name": "stderr",
     "output_type": "stream",
     "text": [
      "100%|██████████| 150/150 [00:01<00:00, 147.25it/s]\n"
     ]
    },
    {
     "name": "stdout",
     "output_type": "stream",
     "text": [
      "[case 119] ber: 0.23307291666666666, ref_ber: 0.4075520833333333\n",
      "[case 120] ber: 0.1328125, ref_ber: 0.19140625\n",
      "[case 121] ber: 0.2708333333333333, ref_ber: 0.4674479166666667\n",
      "[case 122] ber: 0.171875, ref_ber: 0.203125\n",
      "[case 123] ber: 0.29296875, ref_ber: 0.416015625\n",
      "[case 124] ber: 0.2799479166666667, ref_ber: 0.4674479166666667\n",
      "[case 125] ber: 0.25390625, ref_ber: 0.4192708333333333\n",
      "[case 126] ber: 0.3411458333333333, ref_ber: 0.4895833333333333\n",
      "[case 127] ber: 0.296875, ref_ber: 0.458984375\n",
      "[case 128] ber: 0.3095703125, ref_ber: 0.4404296875\n",
      "[case 129] ber: 0.15234375, ref_ber: 0.2578125\n",
      "[case 130] ber: 0.23046875, ref_ber: 0.3359375\n",
      "[case 131] ber: 0.359375, ref_ber: 0.33984375\n",
      "[case 132] ber: 0.296875, ref_ber: 0.4375\n",
      "[case 133] ber: 0.2578125, ref_ber: 0.2916666666666667\n",
      "[case 134] ber: 0.2721354166666667, ref_ber: 0.41015625\n",
      "[case 135] ber: 0.2734375, ref_ber: 0.5234375\n",
      "[case 136] ber: 0.1484375, ref_ber: 0.42578125\n",
      "[case 137] ber: 0.3489583333333333, ref_ber: 0.5208333333333334\n",
      "[case 138] ber: 0.1171875, ref_ber: 0.1953125\n",
      "[case 139] ber: 0.2630208333333333, ref_ber: 0.390625\n",
      "[case 140] ber: 0.2786458333333333, ref_ber: 0.4440104166666667\n",
      "[case 141] ber: 0.19921875, ref_ber: 0.41015625\n",
      "[case 142] ber: 0.24479166666666666, ref_ber: 0.3359375\n",
      "[case 143] ber: 0.19140625, ref_ber: 0.474609375\n",
      "[case 144] ber: 0.1328125, ref_ber: 0.30859375\n",
      "[case 145] ber: 0.3111979166666667, ref_ber: 0.44140625\n",
      "[case 146] ber: 0.24479166666666666, ref_ber: 0.3645833333333333\n",
      "[case 147] ber: 0.2682291666666667, ref_ber: 0.4739583333333333\n",
      "[case 148] ber: 0.12890625, ref_ber: 0.44921875\n",
      "[case 149] ber: 0.150390625, ref_ber: 0.416015625\n"
     ]
    },
    {
     "name": "stderr",
     "output_type": "stream",
     "text": [
      "  0%|          | 0/150 [00:00<?, ?it/s]"
     ]
    },
    {
     "name": "stdout",
     "output_type": "stream",
     "text": [
      "[case 0] ber: 0.1796875, ref_ber: 0.287109375\n",
      "[case 1] ber: 0.375, ref_ber: 0.48046875\n"
     ]
    },
    {
     "name": "stderr",
     "output_type": "stream",
     "text": [
      " 11%|█         | 16/150 [00:00<00:00, 145.35it/s]"
     ]
    },
    {
     "name": "stdout",
     "output_type": "stream",
     "text": [
      "[case 2] ber: 0.70703125, ref_ber: 0.4830729166666667\n",
      "[case 3] ber: 0.90234375, ref_ber: 0.224609375\n",
      "[case 4] ber: 1.24609375, ref_ber: 0.4427083333333333\n",
      "[case 5] ber: 1.60546875, ref_ber: 0.3854166666666667\n",
      "[case 6] ber: 1.96484375, ref_ber: 0.443359375\n",
      "[case 7] ber: 2.203125, ref_ber: 0.40234375\n",
      "[case 8] ber: 2.4296875, ref_ber: 0.296875\n",
      "[case 9] ber: 2.603515625, ref_ber: 0.439453125\n",
      "[case 10] ber: 2.98828125, ref_ber: 0.521484375\n",
      "[case 11] ber: 3.3564453125, ref_ber: 0.466796875\n",
      "[case 12] ber: 3.6897786458333335, ref_ber: 0.4596354166666667\n",
      "[case 13] ber: 3.9710286458333335, ref_ber: 0.3294270833333333\n",
      "[case 14] ber: 4.358723958333334, ref_ber: 0.470703125\n",
      "[case 15] ber: 4.718098958333334, ref_ber: 0.4072265625\n",
      "[case 16] ber: 5.059244791666667, ref_ber: 0.3723958333333333\n",
      "[case 17] ber: 5.414713541666667, ref_ber: 0.455078125\n",
      "[case 18] ber: 5.625651041666667, ref_ber: 0.4375\n",
      "[case 19] ber: 5.945963541666667, ref_ber: 0.359375\n",
      "[case 20] ber: 6.214192708333334, ref_ber: 0.24739583333333334\n",
      "[case 21] ber: 6.561848958333334, ref_ber: 0.451171875\n",
      "[case 22] ber: 6.889973958333334, ref_ber: 0.4296875\n",
      "[case 23] ber: 7.112630208333334, ref_ber: 0.3359375\n",
      "[case 24] ber: 7.419921875000001, ref_ber: 0.4088541666666667\n",
      "[case 25] ber: 7.751953125000001, ref_ber: 0.4348958333333333\n",
      "[case 26] ber: 8.069661458333334, ref_ber: 0.4401041666666667\n",
      "[case 27] ber: 8.311848958333334, ref_ber: 0.466796875\n",
      "[case 28] ber: 8.546223958333334, ref_ber: 0.466796875\n",
      "[case 29] ber: 8.792317708333334, ref_ber: 0.40234375\n",
      "[case 30] ber: 9.098307291666668, ref_ber: 0.4361979166666667\n"
     ]
    },
    {
     "name": "stderr",
     "output_type": "stream",
     "text": [
      " 21%|██▏       | 32/150 [00:00<00:00, 150.02it/s]"
     ]
    },
    {
     "name": "stdout",
     "output_type": "stream",
     "text": [
      "[case 31] ber: 9.469401041666668, ref_ber: 0.453125\n",
      "[case 32] ber: 9.707682291666668, ref_ber: 0.4140625\n",
      "[case 33] ber: 9.914713541666668, ref_ber: 0.40234375\n",
      "[case 34] ber: 10.117838541666668, ref_ber: 0.3671875\n"
     ]
    },
    {
     "name": "stderr",
     "output_type": "stream",
     "text": [
      " 33%|███▎      | 49/150 [00:00<00:00, 155.63it/s]"
     ]
    },
    {
     "name": "stdout",
     "output_type": "stream",
     "text": [
      "[case 35] ber: 10.328776041666668, ref_ber: 0.45703125\n",
      "[case 36] ber: 10.650390625000002, ref_ber: 0.4856770833333333\n",
      "[case 37] ber: 10.876953125000002, ref_ber: 0.296875\n",
      "[case 38] ber: 11.119140625000002, ref_ber: 0.4114583333333333\n",
      "[case 39] ber: 11.337890625000002, ref_ber: 0.3984375\n",
      "[case 40] ber: 11.625651041666668, ref_ber: 0.30859375\n",
      "[case 41] ber: 11.895182291666668, ref_ber: 0.4010416666666667\n",
      "[case 42] ber: 12.086588541666668, ref_ber: 0.28125\n",
      "[case 43] ber: 12.340494791666668, ref_ber: 0.458984375\n",
      "[case 44] ber: 12.697916666666668, ref_ber: 0.4609375\n",
      "[case 45] ber: 13.071940104166668, ref_ber: 0.4677734375\n",
      "[case 46] ber: 13.302408854166668, ref_ber: 0.40234375\n",
      "[case 47] ber: 13.661783854166668, ref_ber: 0.4609375\n",
      "[case 48] ber: 14.011393229166668, ref_ber: 0.4453125\n",
      "[case 49] ber: 14.329101562500002, ref_ber: 0.4348958333333333\n",
      "[case 50] ber: 14.686523437500002, ref_ber: 0.490234375\n",
      "[case 51] ber: 15.006835937500002, ref_ber: 0.3841145833333333\n",
      "[case 52] ber: 15.231445312500002, ref_ber: 0.41796875\n",
      "[case 53] ber: 15.567382812500002, ref_ber: 0.5104166666666666\n",
      "[case 54] ber: 15.954101562500002, ref_ber: 0.4765625\n",
      "[case 55] ber: 16.3232421875, ref_ber: 0.4228515625\n",
      "[case 56] ber: 16.661783854166668, ref_ber: 0.484375\n",
      "[case 57] ber: 16.894205729166668, ref_ber: 0.44140625\n",
      "[case 58] ber: 17.226236979166668, ref_ber: 0.4947916666666667\n",
      "[case 59] ber: 17.577799479166668, ref_ber: 0.4921875\n",
      "[case 60] ber: 17.786783854166668, ref_ber: 0.42578125\n",
      "[case 61] ber: 18.132486979166668, ref_ber: 0.474609375\n",
      "[case 62] ber: 18.347330729166668, ref_ber: 0.4140625\n",
      "[case 63] ber: 18.527018229166668, ref_ber: 0.36328125\n"
     ]
    },
    {
     "name": "stderr",
     "output_type": "stream",
     "text": [
      " 43%|████▎     | 65/150 [00:00<00:00, 154.83it/s]"
     ]
    },
    {
     "name": "stdout",
     "output_type": "stream",
     "text": [
      "[case 64] ber: 18.747721354166668, ref_ber: 0.3125\n"
     ]
    },
    {
     "name": "stderr",
     "output_type": "stream",
     "text": [
      " 55%|█████▌    | 83/150 [00:00<00:00, 161.81it/s]"
     ]
    },
    {
     "name": "stdout",
     "output_type": "stream",
     "text": [
      "[case 65] ber: 18.946940104166668, ref_ber: 0.302734375\n",
      "[case 66] ber: 19.177408854166668, ref_ber: 0.44140625\n",
      "[case 67] ber: 19.378580729166668, ref_ber: 0.453125\n",
      "[case 68] ber: 19.609049479166668, ref_ber: 0.4453125\n",
      "[case 69] ber: 19.931966145833336, ref_ber: 0.453125\n",
      "[case 70] ber: 20.237955729166668, ref_ber: 0.4205729166666667\n",
      "[case 71] ber: 20.552408854166668, ref_ber: 0.47265625\n",
      "[case 72] ber: 20.864908854166668, ref_ber: 0.2708333333333333\n",
      "[case 73] ber: 21.229166666666668, ref_ber: 0.3798828125\n",
      "[case 74] ber: 21.645182291666668, ref_ber: 0.4140625\n",
      "[case 75] ber: 21.877604166666668, ref_ber: 0.435546875\n",
      "[case 76] ber: 22.110026041666668, ref_ber: 0.5\n",
      "[case 77] ber: 22.431640625, ref_ber: 0.2643229166666667\n",
      "[case 78] ber: 22.80078125, ref_ber: 0.462890625\n",
      "[case 79] ber: 23.123697916666668, ref_ber: 0.4765625\n",
      "[case 80] ber: 23.41796875, ref_ber: 0.4479166666666667\n",
      "[case 81] ber: 23.6484375, ref_ber: 0.4375\n",
      "[case 82] ber: 23.875, ref_ber: 0.39453125\n",
      "[case 83] ber: 24.184895833333332, ref_ber: 0.4348958333333333\n",
      "[case 84] ber: 24.395833333333332, ref_ber: 0.46875\n",
      "[case 85] ber: 24.587239583333332, ref_ber: 0.46484375\n",
      "[case 86] ber: 24.843098958333332, ref_ber: 0.455078125\n",
      "[case 87] ber: 25.014973958333332, ref_ber: 0.29296875\n",
      "[case 88] ber: 25.339192708333332, ref_ber: 0.47265625\n",
      "[case 89] ber: 25.612630208333332, ref_ber: 0.359375\n",
      "[case 90] ber: 25.927734375, ref_ber: 0.390625\n",
      "[case 91] ber: 26.30859375, ref_ber: 0.330078125\n",
      "[case 92] ber: 26.501953125, ref_ber: 0.392578125\n",
      "[case 93] ber: 26.693359375, ref_ber: 0.419921875\n",
      "[case 94] ber: 26.884765625, ref_ber: 0.41015625\n",
      "[case 95] ber: 27.244140625, ref_ber: 0.478515625\n",
      "[case 96] ber: 27.439453125, ref_ber: 0.45703125\n",
      "[case 97] ber: 27.788411458333332, ref_ber: 0.4270833333333333\n",
      "[case 98] ber: 28.155598958333332, ref_ber: 0.48046875\n",
      "[case 99] ber: 28.538411458333332, ref_ber: 0.521484375\n",
      "[case 100] ber: 28.722005208333332, ref_ber: 0.34375\n"
     ]
    },
    {
     "name": "stderr",
     "output_type": "stream",
     "text": [
      " 80%|████████  | 120/150 [00:00<00:00, 167.69it/s]"
     ]
    },
    {
     "name": "stdout",
     "output_type": "stream",
     "text": [
      "[case 101] ber: 29.035807291666664, ref_ber: 0.4375\n",
      "[case 102] ber: 29.348307291666664, ref_ber: 0.4140625\n",
      "[case 103] ber: 29.582682291666664, ref_ber: 0.5078125\n",
      "[case 104] ber: 29.873046874999996, ref_ber: 0.3802083333333333\n",
      "[case 105] ber: 30.201171874999996, ref_ber: 0.3932291666666667\n",
      "[case 106] ber: 30.537109374999996, ref_ber: 0.400390625\n",
      "[case 107] ber: 30.757812499999996, ref_ber: 0.4140625\n",
      "[case 108] ber: 31.05598958333333, ref_ber: 0.3450520833333333\n",
      "[case 109] ber: 31.37760416666666, ref_ber: 0.4596354166666667\n",
      "[case 110] ber: 31.73111979166666, ref_ber: 0.4306640625\n",
      "[case 111] ber: 31.94596354166666, ref_ber: 0.359375\n",
      "[case 112] ber: 32.16080729166666, ref_ber: 0.38671875\n",
      "[case 113] ber: 32.33268229166666, ref_ber: 0.25390625\n",
      "[case 114] ber: 32.66861979166666, ref_ber: 0.5013020833333334\n",
      "[case 115] ber: 32.97981770833332, ref_ber: 0.3984375\n",
      "[case 116] ber: 33.23958333333332, ref_ber: 0.48046875\n",
      "[case 117] ber: 33.59895833333332, ref_ber: 0.4557291666666667\n",
      "[case 118] ber: 33.80989583333332, ref_ber: 0.28125\n",
      "[case 119] ber: 34.09635416666666, ref_ber: 0.4075520833333333\n",
      "[case 120] ber: 34.29166666666666, ref_ber: 0.19140625\n",
      "[case 121] ber: 34.59895833333332, ref_ber: 0.4674479166666667\n",
      "[case 122] ber: 34.85286458333332, ref_ber: 0.203125\n",
      "[case 123] ber: 35.16341145833332, ref_ber: 0.416015625\n",
      "[case 124] ber: 35.47200520833332, ref_ber: 0.4674479166666667\n",
      "[case 125] ber: 35.79231770833332, ref_ber: 0.4192708333333333\n",
      "[case 126] ber: 36.130859374999986, ref_ber: 0.4895833333333333\n",
      "[case 127] ber: 36.496093749999986, ref_ber: 0.458984375\n",
      "[case 128] ber: 36.863281249999986, ref_ber: 0.4404296875\n",
      "[case 129] ber: 37.046874999999986, ref_ber: 0.2578125\n",
      "[case 130] ber: 37.32682291666665, ref_ber: 0.3359375\n",
      "[case 131] ber: 37.69401041666665, ref_ber: 0.33984375\n",
      "[case 132] ber: 38.01822916666665, ref_ber: 0.4375\n",
      "[case 133] ber: 38.317708333333314, ref_ber: 0.2916666666666667\n",
      "[case 134] ber: 38.62499999999998, ref_ber: 0.41015625\n"
     ]
    },
    {
     "name": "stderr",
     "output_type": "stream",
     "text": [
      "100%|██████████| 150/150 [00:00<00:00, 165.21it/s]\n"
     ]
    },
    {
     "name": "stdout",
     "output_type": "stream",
     "text": [
      "[case 135] ber: 38.942708333333314, ref_ber: 0.5234375\n",
      "[case 136] ber: 39.169270833333314, ref_ber: 0.42578125\n",
      "[case 137] ber: 39.53385416666665, ref_ber: 0.5208333333333334\n",
      "[case 138] ber: 39.71354166666665, ref_ber: 0.1953125\n",
      "[case 139] ber: 40.044270833333314, ref_ber: 0.390625\n",
      "[case 140] ber: 40.37890624999998, ref_ber: 0.4440104166666667\n",
      "[case 141] ber: 40.60937499999998, ref_ber: 0.41015625\n",
      "[case 142] ber: 40.927083333333314, ref_ber: 0.3359375\n",
      "[case 143] ber: 41.165364583333314, ref_ber: 0.474609375\n",
      "[case 144] ber: 41.356770833333314, ref_ber: 0.30859375\n",
      "[case 145] ber: 41.67187499999998, ref_ber: 0.44140625\n",
      "[case 146] ber: 41.942708333333314, ref_ber: 0.3645833333333333\n",
      "[case 147] ber: 42.24479166666665, ref_ber: 0.4739583333333333\n",
      "[case 148] ber: 42.44010416666665, ref_ber: 0.44921875\n",
      "[case 149] ber: 42.63151041666665, ref_ber: 0.416015625\n"
     ]
    },
    {
     "data": {
      "text/plain": "<Figure size 640x480 with 1 Axes>",
      "image/png": "[encoded data removed]"
     },
     "metadata": {},
     "output_type": "display_data"
    },
    {
     "name": "stdout",
     "output_type": "stream",
     "text": [
      ">> Method:DUSB\n",
      ">> time cost: 1.02\n",
      ">> avg. BER = 0.23965\n",
      ">> Method:BSB\n",
      ">> time cost: 0.91\n",
      ">> avg. BER = 0.28421\n"
     ]
    }
   ],
   "source": [
    "from main import ising_generator, qaia_mld_solver\n",
    "\n",
    "dataset = []\n",
    "filelist = glob(f'MLD_data/*.pickle')\n",
    "for filename in filelist:\n",
    "    with open(filename, 'rb') as fh:\n",
    "        data = pickle.load(fh)\n",
    "    dataset.append([data['H'], data['y'], data['bits'], data['num_bits_per_symbol'], data['SNR'], data['ZF_ber']])\n",
    "\n",
    "judger = Judger(dataset)\n",
    "t = time()\n",
    "avgber = judger.benchmark(ising_generator, qaia_mld_solver)\n",
    "ts = time() - t\n",
    "print(f'>> time cost: {ts:.2f}')\n",
    "print(f\">> avg. BER = {avgber:.5f}\")"
   ]
  },
  {
   "cell_type": "code",
   "execution_count": 6,
   "id": "a458857c2eaef5b5",
   "metadata": {
    "ExecuteTime": {
     "end_time": "2025-04-08T02:43:21.085594700Z",
     "start_time": "2025-04-08T02:43:21.054596500Z"
    }
   },
   "outputs": [],
   "source": []
  }
 ],
 "metadata": {
  "kernelspec": {
   "display_name": "lsw_qaia",
   "language": "python",
   "name": "qaia"
  },
  "language_info": {
   "codemirror_mode": {
    "name": "ipython",
    "version": 3
   },
   "file_extension": ".py",
   "mimetype": "text/x-python",
   "name": "python",
   "nbconvert_exporter": "python",
   "pygments_lexer": "ipython3",
   "version": "3.11.9"
  }
 },
 "nbformat": 4,
 "nbformat_minor": 5
}
