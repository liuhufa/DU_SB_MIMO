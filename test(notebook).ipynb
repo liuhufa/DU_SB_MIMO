{
 "cells": [
  {
   "cell_type": "code",
   "execution_count": 1,
   "id": "initial_id",
   "metadata": {
    "collapsed": true,
    "ExecuteTime": {
     "end_time": "2025-04-08T06:11:33.255382600Z",
     "start_time": "2025-04-08T06:11:30.128796Z"
    }
   },
   "outputs": [
    {
     "name": "stderr",
     "output_type": "stream",
     "text": [
      "  9%|▊         | 13/150 [00:00<00:02, 64.28it/s]"
     ]
    },
    {
     "name": "stdout",
     "output_type": "stream",
     "text": [
      "[case 0] ber: 0.068359375, ref_ber: 0.287109375\n",
      "[case 1] ber: 0.162109375, ref_ber: 0.48046875\n",
      "[case 2] ber: 0.26953125, ref_ber: 0.4830729166666667\n",
      "[case 3] ber: 0.14453125, ref_ber: 0.224609375\n",
      "[case 4] ber: 0.3229166666666667, ref_ber: 0.4427083333333333\n",
      "[case 5] ber: 0.2994791666666667, ref_ber: 0.3854166666666667\n",
      "[case 6] ber: 0.3359375, ref_ber: 0.443359375\n",
      "[case 7] ber: 0.19140625, ref_ber: 0.40234375\n",
      "[case 8] ber: 0.1953125, ref_ber: 0.296875\n",
      "[case 9] ber: 0.119140625, ref_ber: 0.439453125\n",
      "[case 10] ber: 0.3828125, ref_ber: 0.521484375\n",
      "[case 11] ber: 0.333984375, ref_ber: 0.466796875\n",
      "[case 12] ber: 0.2838541666666667, ref_ber: 0.4596354166666667\n",
      "[case 13] ber: 0.203125, ref_ber: 0.3294270833333333\n"
     ]
    },
    {
     "name": "stderr",
     "output_type": "stream",
     "text": [
      " 27%|██▋       | 41/150 [00:00<00:00, 112.56it/s]"
     ]
    },
    {
     "name": "stdout",
     "output_type": "stream",
     "text": [
      "[case 14] ber: 0.359375, ref_ber: 0.470703125\n",
      "[case 15] ber: 0.3427734375, ref_ber: 0.4072265625\n",
      "[case 16] ber: 0.2760416666666667, ref_ber: 0.3723958333333333\n",
      "[case 17] ber: 0.291015625, ref_ber: 0.455078125\n",
      "[case 18] ber: 0.173828125, ref_ber: 0.4375\n",
      "[case 19] ber: 0.2838541666666667, ref_ber: 0.359375\n",
      "[case 20] ber: 0.22916666666666666, ref_ber: 0.24739583333333334\n",
      "[case 21] ber: 0.30859375, ref_ber: 0.451171875\n",
      "[case 22] ber: 0.2760416666666667, ref_ber: 0.4296875\n",
      "[case 23] ber: 0.2109375, ref_ber: 0.3359375\n",
      "[case 24] ber: 0.2591145833333333, ref_ber: 0.4088541666666667\n",
      "[case 25] ber: 0.2721354166666667, ref_ber: 0.4348958333333333\n",
      "[case 26] ber: 0.21354166666666666, ref_ber: 0.4401041666666667\n",
      "[case 27] ber: 0.193359375, ref_ber: 0.466796875\n",
      "[case 28] ber: 0.154296875, ref_ber: 0.466796875\n",
      "[case 29] ber: 0.193359375, ref_ber: 0.40234375\n",
      "[case 30] ber: 0.2630208333333333, ref_ber: 0.4361979166666667\n",
      "[case 31] ber: 0.3232421875, ref_ber: 0.453125\n",
      "[case 32] ber: 0.16015625, ref_ber: 0.4140625\n",
      "[case 33] ber: 0.1875, ref_ber: 0.40234375\n",
      "[case 34] ber: 0.1015625, ref_ber: 0.3671875\n",
      "[case 35] ber: 0.20703125, ref_ber: 0.45703125\n",
      "[case 36] ber: 0.2669270833333333, ref_ber: 0.4856770833333333\n",
      "[case 37] ber: 0.1640625, ref_ber: 0.296875\n",
      "[case 38] ber: 0.22395833333333334, ref_ber: 0.4114583333333333\n",
      "[case 39] ber: 0.1796875, ref_ber: 0.3984375\n",
      "[case 40] ber: 0.2643229166666667, ref_ber: 0.30859375\n",
      "[case 41] ber: 0.24479166666666666, ref_ber: 0.4010416666666667\n",
      "[case 42] ber: 0.12890625, ref_ber: 0.28125\n",
      "[case 43] ber: 0.2265625, ref_ber: 0.458984375\n",
      "[case 44] ber: 0.298828125, ref_ber: 0.4609375\n"
     ]
    },
    {
     "name": "stderr",
     "output_type": "stream",
     "text": [
      " 46%|████▌     | 69/150 [00:00<00:00, 125.87it/s]"
     ]
    },
    {
     "name": "stdout",
     "output_type": "stream",
     "text": [
      "[case 45] ber: 0.3583984375, ref_ber: 0.4677734375\n",
      "[case 46] ber: 0.18359375, ref_ber: 0.40234375\n",
      "[case 47] ber: 0.3486328125, ref_ber: 0.4609375\n",
      "[case 48] ber: 0.3447265625, ref_ber: 0.4453125\n",
      "[case 49] ber: 0.28125, ref_ber: 0.4348958333333333\n",
      "[case 50] ber: 0.31640625, ref_ber: 0.490234375\n",
      "[case 51] ber: 0.234375, ref_ber: 0.3841145833333333\n",
      "[case 52] ber: 0.181640625, ref_ber: 0.41796875\n",
      "[case 53] ber: 0.2643229166666667, ref_ber: 0.5104166666666666\n",
      "[case 54] ber: 0.3720703125, ref_ber: 0.4765625\n",
      "[case 55] ber: 0.3076171875, ref_ber: 0.4228515625\n",
      "[case 56] ber: 0.2838541666666667, ref_ber: 0.484375\n",
      "[case 57] ber: 0.203125, ref_ber: 0.44140625\n",
      "[case 58] ber: 0.2786458333333333, ref_ber: 0.4947916666666667\n",
      "[case 59] ber: 0.3046875, ref_ber: 0.4921875\n",
      "[case 60] ber: 0.15234375, ref_ber: 0.42578125\n",
      "[case 61] ber: 0.322265625, ref_ber: 0.474609375\n",
      "[case 62] ber: 0.16015625, ref_ber: 0.4140625\n",
      "[case 63] ber: 0.15234375, ref_ber: 0.36328125\n",
      "[case 64] ber: 0.171875, ref_ber: 0.3125\n",
      "[case 65] ber: 0.14453125, ref_ber: 0.302734375\n",
      "[case 66] ber: 0.1484375, ref_ber: 0.44140625\n",
      "[case 67] ber: 0.146484375, ref_ber: 0.453125\n",
      "[case 68] ber: 0.17578125, ref_ber: 0.4453125\n",
      "[case 69] ber: 0.2890625, ref_ber: 0.453125\n",
      "[case 70] ber: 0.2877604166666667, ref_ber: 0.4205729166666667\n",
      "[case 71] ber: 0.3203125, ref_ber: 0.47265625\n",
      "[case 72] ber: 0.2526041666666667, ref_ber: 0.2708333333333333\n"
     ]
    },
    {
     "name": "stderr",
     "output_type": "stream",
     "text": [
      " 67%|██████▋   | 101/150 [00:00<00:00, 142.81it/s]"
     ]
    },
    {
     "name": "stdout",
     "output_type": "stream",
     "text": [
      "[case 73] ber: 0.3291015625, ref_ber: 0.3798828125\n",
      "[case 74] ber: 0.341796875, ref_ber: 0.4140625\n",
      "[case 75] ber: 0.169921875, ref_ber: 0.435546875\n",
      "[case 76] ber: 0.177734375, ref_ber: 0.5\n",
      "[case 77] ber: 0.20572916666666666, ref_ber: 0.2643229166666667\n",
      "[case 78] ber: 0.341796875, ref_ber: 0.462890625\n",
      "[case 79] ber: 0.3307291666666667, ref_ber: 0.4765625\n",
      "[case 80] ber: 0.23958333333333334, ref_ber: 0.4479166666666667\n",
      "[case 81] ber: 0.17578125, ref_ber: 0.4375\n",
      "[case 82] ber: 0.203125, ref_ber: 0.39453125\n",
      "[case 83] ber: 0.2916666666666667, ref_ber: 0.4348958333333333\n",
      "[case 84] ber: 0.171875, ref_ber: 0.46875\n",
      "[case 85] ber: 0.18359375, ref_ber: 0.46484375\n",
      "[case 86] ber: 0.193359375, ref_ber: 0.455078125\n",
      "[case 87] ber: 0.09375, ref_ber: 0.29296875\n",
      "[case 88] ber: 0.26953125, ref_ber: 0.47265625\n",
      "[case 89] ber: 0.22395833333333334, ref_ber: 0.359375\n",
      "[case 90] ber: 0.24739583333333334, ref_ber: 0.390625\n",
      "[case 91] ber: 0.341796875, ref_ber: 0.330078125\n",
      "[case 92] ber: 0.15625, ref_ber: 0.392578125\n",
      "[case 93] ber: 0.1484375, ref_ber: 0.419921875\n",
      "[case 94] ber: 0.1171875, ref_ber: 0.41015625\n",
      "[case 95] ber: 0.330078125, ref_ber: 0.478515625\n",
      "[case 96] ber: 0.15234375, ref_ber: 0.45703125\n",
      "[case 97] ber: 0.3098958333333333, ref_ber: 0.4270833333333333\n",
      "[case 98] ber: 0.361328125, ref_ber: 0.48046875\n",
      "[case 99] ber: 0.365234375, ref_ber: 0.521484375\n",
      "[case 100] ber: 0.1484375, ref_ber: 0.34375\n",
      "[case 101] ber: 0.30078125, ref_ber: 0.4375\n",
      "[case 102] ber: 0.23177083333333334, ref_ber: 0.4140625\n",
      "[case 103] ber: 0.14453125, ref_ber: 0.5078125\n",
      "[case 104] ber: 0.2643229166666667, ref_ber: 0.3802083333333333\n",
      "[case 105] ber: 0.2421875, ref_ber: 0.3932291666666667\n",
      "[case 106] ber: 0.3359375, ref_ber: 0.400390625\n"
     ]
    },
    {
     "name": "stderr",
     "output_type": "stream",
     "text": [
      " 87%|████████▋ | 131/150 [00:01<00:00, 137.42it/s]"
     ]
    },
    {
     "name": "stdout",
     "output_type": "stream",
     "text": [
      "[case 107] ber: 0.166015625, ref_ber: 0.4140625\n",
      "[case 108] ber: 0.24739583333333334, ref_ber: 0.3450520833333333\n",
      "[case 109] ber: 0.2942708333333333, ref_ber: 0.4596354166666667\n",
      "[case 110] ber: 0.318359375, ref_ber: 0.4306640625\n",
      "[case 111] ber: 0.11328125, ref_ber: 0.359375\n",
      "[case 112] ber: 0.15625, ref_ber: 0.38671875\n",
      "[case 113] ber: 0.12109375, ref_ber: 0.25390625\n",
      "[case 114] ber: 0.2799479166666667, ref_ber: 0.5013020833333334\n",
      "[case 115] ber: 0.28515625, ref_ber: 0.3984375\n",
      "[case 116] ber: 0.189453125, ref_ber: 0.48046875\n",
      "[case 117] ber: 0.3177083333333333, ref_ber: 0.4557291666666667\n",
      "[case 118] ber: 0.14453125, ref_ber: 0.28125\n",
      "[case 119] ber: 0.23697916666666666, ref_ber: 0.4075520833333333\n",
      "[case 120] ber: 0.14453125, ref_ber: 0.19140625\n",
      "[case 121] ber: 0.27734375, ref_ber: 0.4674479166666667\n",
      "[case 122] ber: 0.18359375, ref_ber: 0.203125\n",
      "[case 123] ber: 0.298828125, ref_ber: 0.416015625\n",
      "[case 124] ber: 0.2864583333333333, ref_ber: 0.4674479166666667\n",
      "[case 125] ber: 0.2630208333333333, ref_ber: 0.4192708333333333\n",
      "[case 126] ber: 0.3489583333333333, ref_ber: 0.4895833333333333\n",
      "[case 127] ber: 0.283203125, ref_ber: 0.458984375\n",
      "[case 128] ber: 0.310546875, ref_ber: 0.4404296875\n",
      "[case 129] ber: 0.15234375, ref_ber: 0.2578125\n",
      "[case 130] ber: 0.23828125, ref_ber: 0.3359375\n",
      "[case 131] ber: 0.359375, ref_ber: 0.33984375\n",
      "[case 132] ber: 0.2903645833333333, ref_ber: 0.4375\n"
     ]
    },
    {
     "name": "stderr",
     "output_type": "stream",
     "text": [
      "100%|██████████| 150/150 [00:01<00:00, 126.65it/s]\n"
     ]
    },
    {
     "name": "stdout",
     "output_type": "stream",
     "text": [
      "[case 133] ber: 0.2578125, ref_ber: 0.2916666666666667\n",
      "[case 134] ber: 0.2825520833333333, ref_ber: 0.41015625\n",
      "[case 135] ber: 0.2786458333333333, ref_ber: 0.5234375\n",
      "[case 136] ber: 0.1328125, ref_ber: 0.42578125\n",
      "[case 137] ber: 0.3697916666666667, ref_ber: 0.5208333333333334\n",
      "[case 138] ber: 0.119140625, ref_ber: 0.1953125\n",
      "[case 139] ber: 0.2786458333333333, ref_ber: 0.390625\n",
      "[case 140] ber: 0.28515625, ref_ber: 0.4440104166666667\n",
      "[case 141] ber: 0.1875, ref_ber: 0.41015625\n",
      "[case 142] ber: 0.2578125, ref_ber: 0.3359375\n",
      "[case 143] ber: 0.19140625, ref_ber: 0.474609375\n",
      "[case 144] ber: 0.12890625, ref_ber: 0.30859375\n",
      "[case 145] ber: 0.2890625, ref_ber: 0.44140625\n",
      "[case 146] ber: 0.23697916666666666, ref_ber: 0.3645833333333333\n",
      "[case 147] ber: 0.2838541666666667, ref_ber: 0.4739583333333333\n",
      "[case 148] ber: 0.126953125, ref_ber: 0.44921875\n",
      "[case 149] ber: 0.154296875, ref_ber: 0.416015625\n"
     ]
    },
    {
     "name": "stderr",
     "output_type": "stream",
     "text": [
      "  0%|          | 0/150 [00:00<?, ?it/s]"
     ]
    },
    {
     "name": "stdout",
     "output_type": "stream",
     "text": [
      "[case 0] ber: 0.1953125, ref_ber: 0.287109375\n",
      "[case 1] ber: 0.390625, ref_ber: 0.48046875\n",
      "[case 2] ber: 0.7135416666666667, ref_ber: 0.4830729166666667\n",
      "[case 3] ber: 0.9088541666666667, ref_ber: 0.224609375\n",
      "[case 4] ber: 1.2526041666666667, ref_ber: 0.4427083333333333\n",
      "[case 5] ber: 1.609375, ref_ber: 0.3854166666666667\n",
      "[case 6] ber: 1.970703125, ref_ber: 0.443359375\n",
      "[case 7] ber: 2.212890625, ref_ber: 0.40234375\n",
      "[case 8] ber: 2.443359375, ref_ber: 0.296875\n",
      "[case 9] ber: 2.62109375, ref_ber: 0.439453125\n",
      "[case 10] ber: 3.013671875, ref_ber: 0.521484375\n",
      "[case 11] ber: 3.37109375, ref_ber: 0.466796875\n",
      "[case 12] ber: 3.7083333333333335, ref_ber: 0.4596354166666667\n",
      "[case 13] ber: 3.9700520833333335, ref_ber: 0.3294270833333333\n",
      "[case 14] ber: 4.348958333333334, ref_ber: 0.470703125\n"
     ]
    },
    {
     "name": "stderr",
     "output_type": "stream",
     "text": [
      " 11%|█         | 16/150 [00:00<00:00, 142.08it/s]"
     ]
    },
    {
     "name": "stdout",
     "output_type": "stream",
     "text": [
      "[case 15] ber: 4.717122395833334, ref_ber: 0.4072265625\n",
      "[case 16] ber: 5.050455729166667, ref_ber: 0.3723958333333333\n",
      "[case 17] ber: 5.398111979166667, ref_ber: 0.455078125\n",
      "[case 18] ber: 5.605143229166667, ref_ber: 0.4375\n",
      "[case 19] ber: 5.9384765625, ref_ber: 0.359375\n",
      "[case 20] ber: 6.206705729166667, ref_ber: 0.24739583333333334\n",
      "[case 21] ber: 6.541666666666667, ref_ber: 0.451171875\n",
      "[case 22] ber: 6.877604166666667, ref_ber: 0.4296875\n",
      "[case 23] ber: 7.092447916666667, ref_ber: 0.3359375\n",
      "[case 24] ber: 7.40234375, ref_ber: 0.4088541666666667\n",
      "[case 25] ber: 7.720052083333333, ref_ber: 0.4348958333333333\n",
      "[case 26] ber: 8.022135416666666, ref_ber: 0.4401041666666667\n",
      "[case 27] ber: 8.248697916666666, ref_ber: 0.466796875\n",
      "[case 28] ber: 8.479166666666666, ref_ber: 0.466796875\n",
      "[case 29] ber: 8.746744791666666, ref_ber: 0.40234375\n",
      "[case 30] ber: 9.054036458333332, ref_ber: 0.4361979166666667\n"
     ]
    },
    {
     "name": "stderr",
     "output_type": "stream",
     "text": [
      " 21%|██▏       | 32/150 [00:00<00:00, 149.08it/s]"
     ]
    },
    {
     "name": "stdout",
     "output_type": "stream",
     "text": [
      "[case 31] ber: 9.424153645833332, ref_ber: 0.453125\n",
      "[case 32] ber: 9.662434895833332, ref_ber: 0.4140625\n",
      "[case 33] ber: 9.900716145833332, ref_ber: 0.40234375\n",
      "[case 34] ber: 10.119466145833332, ref_ber: 0.3671875\n",
      "[case 35] ber: 10.338216145833332, ref_ber: 0.45703125\n",
      "[case 36] ber: 10.645507812499998, ref_ber: 0.4856770833333333\n",
      "[case 37] ber: 10.881835937499998, ref_ber: 0.296875\n",
      "[case 38] ber: 11.126627604166664, ref_ber: 0.4114583333333333\n",
      "[case 39] ber: 11.345377604166664, ref_ber: 0.3984375\n",
      "[case 40] ber: 11.634440104166664, ref_ber: 0.30859375\n",
      "[case 41] ber: 11.901367187499998, ref_ber: 0.4010416666666667\n",
      "[case 42] ber: 12.100585937499998, ref_ber: 0.28125\n",
      "[case 43] ber: 12.356445312499998, ref_ber: 0.458984375\n",
      "[case 44] ber: 12.725585937499998, ref_ber: 0.4609375\n",
      "[case 45] ber: 13.119140624999998, ref_ber: 0.4677734375\n",
      "[case 46] ber: 13.388671874999998, ref_ber: 0.40234375\n",
      "[case 47] ber: 13.759765624999998, ref_ber: 0.4609375\n"
     ]
    },
    {
     "name": "stderr",
     "output_type": "stream",
     "text": [
      " 33%|███▎      | 49/150 [00:00<00:00, 153.51it/s]"
     ]
    },
    {
     "name": "stdout",
     "output_type": "stream",
     "text": [
      "[case 48] ber: 14.124023437499998, ref_ber: 0.4453125\n",
      "[case 49] ber: 14.449544270833332, ref_ber: 0.4348958333333333\n",
      "[case 50] ber: 14.836263020833332, ref_ber: 0.490234375\n",
      "[case 51] ber: 15.164388020833332, ref_ber: 0.3841145833333333\n",
      "[case 52] ber: 15.383138020833332, ref_ber: 0.41796875\n",
      "[case 53] ber: 15.713867187499998, ref_ber: 0.5104166666666666\n",
      "[case 54] ber: 16.1015625, ref_ber: 0.4765625\n",
      "[case 55] ber: 16.458984375, ref_ber: 0.4228515625\n",
      "[case 56] ber: 16.800130208333332, ref_ber: 0.484375\n",
      "[case 57] ber: 17.030598958333332, ref_ber: 0.44140625\n",
      "[case 58] ber: 17.360026041666664, ref_ber: 0.4947916666666667\n",
      "[case 59] ber: 17.706380208333332, ref_ber: 0.4921875\n",
      "[case 60] ber: 17.917317708333332, ref_ber: 0.42578125\n",
      "[case 61] ber: 18.263020833333332, ref_ber: 0.474609375\n",
      "[case 62] ber: 18.477864583333332, ref_ber: 0.4140625\n"
     ]
    },
    {
     "name": "stderr",
     "output_type": "stream",
     "text": [
      " 43%|████▎     | 65/150 [00:00<00:00, 153.70it/s]"
     ]
    },
    {
     "name": "stdout",
     "output_type": "stream",
     "text": [
      "[case 63] ber: 18.669270833333332, ref_ber: 0.36328125\n",
      "[case 64] ber: 18.882161458333332, ref_ber: 0.3125\n",
      "[case 65] ber: 19.093098958333332, ref_ber: 0.302734375\n",
      "[case 66] ber: 19.284505208333332, ref_ber: 0.44140625\n",
      "[case 67] ber: 19.483723958333332, ref_ber: 0.453125\n",
      "[case 68] ber: 19.706380208333332, ref_ber: 0.4453125\n",
      "[case 69] ber: 20.037109375, ref_ber: 0.453125\n",
      "[case 70] ber: 20.349609375, ref_ber: 0.4205729166666667\n",
      "[case 71] ber: 20.673828125, ref_ber: 0.47265625\n",
      "[case 72] ber: 20.988932291666668, ref_ber: 0.2708333333333333\n",
      "[case 73] ber: 21.354166666666668, ref_ber: 0.3798828125\n",
      "[case 74] ber: 21.758463541666668, ref_ber: 0.4140625\n",
      "[case 75] ber: 21.973307291666668, ref_ber: 0.435546875\n",
      "[case 76] ber: 22.192057291666668, ref_ber: 0.5\n",
      "[case 77] ber: 22.516276041666668, ref_ber: 0.2643229166666667\n",
      "[case 78] ber: 22.877604166666668, ref_ber: 0.462890625\n"
     ]
    },
    {
     "name": "stderr",
     "output_type": "stream",
     "text": [
      " 54%|█████▍    | 81/150 [00:00<00:00, 153.87it/s]"
     ]
    },
    {
     "name": "stdout",
     "output_type": "stream",
     "text": [
      "[case 79] ber: 23.21875, ref_ber: 0.4765625\n",
      "[case 80] ber: 23.515625, ref_ber: 0.4479166666666667\n",
      "[case 81] ber: 23.734375, ref_ber: 0.4375\n",
      "[case 82] ber: 23.955078125, ref_ber: 0.39453125\n",
      "[case 83] ber: 24.272786458333332, ref_ber: 0.4348958333333333\n",
      "[case 84] ber: 24.475911458333332, ref_ber: 0.46875\n",
      "[case 85] ber: 24.661458333333332, ref_ber: 0.46484375\n",
      "[case 86] ber: 24.909505208333332, ref_ber: 0.455078125\n",
      "[case 87] ber: 25.081380208333332, ref_ber: 0.29296875\n",
      "[case 88] ber: 25.399088541666664, ref_ber: 0.47265625\n",
      "[case 89] ber: 25.680338541666664, ref_ber: 0.359375\n",
      "[case 90] ber: 25.990234374999996, ref_ber: 0.390625\n",
      "[case 91] ber: 26.356445312499996, ref_ber: 0.330078125\n",
      "[case 92] ber: 26.547851562499996, ref_ber: 0.392578125\n",
      "[case 93] ber: 26.741210937499996, ref_ber: 0.419921875\n",
      "[case 94] ber: 26.924804687499996, ref_ber: 0.41015625\n",
      "[case 95] ber: 27.272460937499996, ref_ber: 0.478515625\n",
      "[case 96] ber: 27.479492187499996, ref_ber: 0.45703125\n",
      "[case 97] ber: 27.807617187499996, ref_ber: 0.4270833333333333\n",
      "[case 98] ber: 28.184570312499996, ref_ber: 0.48046875\n"
     ]
    },
    {
     "name": "stderr",
     "output_type": "stream",
     "text": [
      " 67%|██████▋   | 100/150 [00:00<00:00, 164.24it/s]"
     ]
    },
    {
     "name": "stdout",
     "output_type": "stream",
     "text": [
      "[case 99] ber: 28.554687499999996, ref_ber: 0.521484375\n",
      "[case 100] ber: 28.738281249999996, ref_ber: 0.34375\n",
      "[case 101] ber: 29.053385416666664, ref_ber: 0.4375\n",
      "[case 102] ber: 29.365885416666664, ref_ber: 0.4140625\n",
      "[case 103] ber: 29.600260416666664, ref_ber: 0.5078125\n",
      "[case 104] ber: 29.893229166666664, ref_ber: 0.3802083333333333\n",
      "[case 105] ber: 30.197916666666664, ref_ber: 0.3932291666666667\n",
      "[case 106] ber: 30.529947916666664, ref_ber: 0.400390625\n",
      "[case 107] ber: 30.738932291666664, ref_ber: 0.4140625\n",
      "[case 108] ber: 31.016276041666664, ref_ber: 0.3450520833333333\n",
      "[case 109] ber: 31.336588541666664, ref_ber: 0.4596354166666667\n",
      "[case 110] ber: 31.683268229166664, ref_ber: 0.4306640625\n",
      "[case 111] ber: 31.878580729166664, ref_ber: 0.359375\n",
      "[case 112] ber: 32.097330729166664, ref_ber: 0.38671875\n",
      "[case 113] ber: 32.253580729166664, ref_ber: 0.25390625\n",
      "[case 114] ber: 32.5830078125, ref_ber: 0.5013020833333334\n"
     ]
    },
    {
     "name": "stderr",
     "output_type": "stream",
     "text": [
      " 78%|███████▊  | 117/150 [00:00<00:00, 160.24it/s]"
     ]
    },
    {
     "name": "stdout",
     "output_type": "stream",
     "text": [
      "[case 115] ber: 32.8955078125, ref_ber: 0.3984375\n",
      "[case 116] ber: 33.1513671875, ref_ber: 0.48046875\n",
      "[case 117] ber: 33.508138020833336, ref_ber: 0.4557291666666667\n",
      "[case 118] ber: 33.707356770833336, ref_ber: 0.28125\n",
      "[case 119] ber: 33.99772135416667, ref_ber: 0.4075520833333333\n",
      "[case 120] ber: 34.18912760416667, ref_ber: 0.19140625\n",
      "[case 121] ber: 34.49511718750001, ref_ber: 0.4674479166666667\n",
      "[case 122] ber: 34.75292968750001, ref_ber: 0.203125\n",
      "[case 123] ber: 35.07324218750001, ref_ber: 0.416015625\n",
      "[case 124] ber: 35.37923177083334, ref_ber: 0.4674479166666667\n",
      "[case 125] ber: 35.69824218750001, ref_ber: 0.4192708333333333\n",
      "[case 126] ber: 36.04459635416667, ref_ber: 0.4895833333333333\n",
      "[case 127] ber: 36.42154947916667, ref_ber: 0.458984375\n",
      "[case 128] ber: 36.77994791666667, ref_ber: 0.4404296875\n",
      "[case 129] ber: 36.95963541666667, ref_ber: 0.2578125\n",
      "[case 130] ber: 37.255208333333336, ref_ber: 0.3359375\n"
     ]
    },
    {
     "name": "stderr",
     "output_type": "stream",
     "text": [
      "100%|██████████| 150/150 [00:00<00:00, 161.03it/s]"
     ]
    },
    {
     "name": "stdout",
     "output_type": "stream",
     "text": [
      "[case 131] ber: 37.612630208333336, ref_ber: 0.33984375\n",
      "[case 132] ber: 37.936848958333336, ref_ber: 0.4375\n",
      "[case 133] ber: 38.23893229166667, ref_ber: 0.2916666666666667\n",
      "[case 134] ber: 38.550130208333336, ref_ber: 0.41015625\n",
      "[case 135] ber: 38.873046875, ref_ber: 0.5234375\n",
      "[case 136] ber: 39.119140625, ref_ber: 0.42578125\n",
      "[case 137] ber: 39.486328125, ref_ber: 0.5208333333333334\n",
      "[case 138] ber: 39.681640625, ref_ber: 0.1953125\n",
      "[case 139] ber: 40.004557291666664, ref_ber: 0.390625\n",
      "[case 140] ber: 40.32747395833333, ref_ber: 0.4440104166666667\n",
      "[case 141] ber: 40.56184895833333, ref_ber: 0.41015625\n",
      "[case 142] ber: 40.87434895833333, ref_ber: 0.3359375\n",
      "[case 143] ber: 41.11848958333333, ref_ber: 0.474609375\n",
      "[case 144] ber: 41.30989583333333, ref_ber: 0.30859375\n",
      "[case 145] ber: 41.619791666666664, ref_ber: 0.44140625\n",
      "[case 146] ber: 41.901041666666664, ref_ber: 0.3645833333333333\n",
      "[case 147] ber: 42.19270833333333, ref_ber: 0.4739583333333333\n",
      "[case 148] ber: 42.38020833333333, ref_ber: 0.44921875\n",
      "[case 149] ber: 42.57356770833333, ref_ber: 0.416015625\n"
     ]
    },
    {
     "name": "stderr",
     "output_type": "stream",
     "text": [
      "\n"
     ]
    },
    {
     "data": {
      "text/plain": "<Figure size 640x480 with 1 Axes>",
      "image/png": "[encoded data removed]"
     },
     "metadata": {},
     "output_type": "display_data"
    },
    {
     "name": "stdout",
     "output_type": "stream",
     "text": [
      ">> Method: DUSB\n",
      ">> time cost: 1.19\n",
      ">> avg. BER = 0.23925\n",
      ">> Method: BSB\n",
      ">> time cost: 0.93\n",
      ">> avg. BER = 0.28382\n"
     ]
    }
   ],
   "source": [
    "import pickle\n",
    "from time import time\n",
    "from glob import glob\n",
    "\n",
    "import numpy as np\n",
    "from numpy import ndarray\n",
    "import matplotlib.pyplot as plt\n",
    "from tqdm import tqdm\n",
    "from pathlib import Path\n",
    "\n",
    "run_cfg = 'DU_SB'\n",
    "BASE_PATH = Path.cwd()\n",
    "LOG_PATH = BASE_PATH / 'log'\n",
    "DU_SB_weights = LOG_PATH / 'DU-SB_T=10_lr=0.0001.json'\n",
    "def compute_ber(solution: ndarray, bits: ndarray) -> float:\n",
    "    '''\n",
    "    Compute BER for the solution from QAIAs.\n",
    "\n",
    "    Firstly, both the solution from QAIAs and generated bits should be transformed into gray-coded,\n",
    "    and then compute the ber.\n",
    "\n",
    "    Reference\n",
    "    ---------\n",
    "    [1] Kim M, Venturelli D, Jamieson K. Leveraging quantum annealing for large MIMO processing in centralized radio access networks.\n",
    "        Proceedings of the ACM special interest group on data communication. 2019: 241-255.\\\n",
    "\n",
    "    Input\n",
    "    -----\n",
    "    solution: [rb*2*Nt, ], np.int\n",
    "        The binary array filled with ones and minus ones.\n",
    "\n",
    "    bits: [Nt, nbps], np.int\n",
    "        The binary array filled with ones and zeros.\n",
    "    Ouput\n",
    "    -----\n",
    "    ber: np.float\n",
    "        A scalar, the BER.\n",
    "    '''\n",
    "    solution = solution.astype(np.int32)\n",
    "    bits = bits.astype(np.int32)\n",
    "\n",
    "    # convert the bits from sionna style to constellation style\n",
    "    # Sionna QAM16 map: https://nvlabs.github.io/sionna/examples/Hello_World.html\n",
    "    '''\n",
    "    [sionna-style]\n",
    "        1011 1001 0001 0011\n",
    "        1010 1000 0000 0010\n",
    "        1110 1100 0100 0110\n",
    "        1111 1101 0101 0111\n",
    "    [constellation-style] i.e. the \"gray code\" in QuAMax paper\n",
    "        0010 0110 1110 1010\n",
    "        0011 0111 1111 1011\n",
    "        0001 0101 1101 1001\n",
    "        0000 0100 1100 1000\n",
    "    '''\n",
    "    bits_constellation = 1 - np.concatenate([bits[..., 0::2], bits[..., 1::2]], axis=-1)\n",
    "\n",
    "    # Fig. 2 from arXiv:2001.04014, the QuAMax paper converting QuAMax to gray coded\n",
    "    num_bits_per_symbol = bits_constellation.shape[1]\n",
    "    rb = num_bits_per_symbol // 2\n",
    "    bits_hat = solution.reshape(rb, 2, -1)  # [rb, c=2, Nt]\n",
    "    bits_hat = np.concatenate([bits_hat[:, 0], bits_hat[:, 1]], axis=0)  # [2*rb, Nt]\n",
    "    bits_hat = bits_hat.T.copy()  # [Nt, 2*rb]\n",
    "    bits_hat[bits_hat == -1] = 0  # convert Ising {-1, 1} to QUBO {0, 1}\n",
    "    # QuAMax => intermediate code\n",
    "    '''\n",
    "    [QuAMax-style]\n",
    "        0011 0111 1011 1111\n",
    "        0010 0110 1010 1110\n",
    "        0001 0101 1001 1101\n",
    "        0000 0100 1000 1100\n",
    "    [intermediate-style]\n",
    "        0011 0100 1011 1100\n",
    "        0010 0101 1010 1101\n",
    "        0001 0110 1001 1110\n",
    "        0000 0111 1000 1111\n",
    "    '''\n",
    "    output_bit = bits_hat.copy()  # copy b[0]\n",
    "    index = np.nonzero(bits_hat[:, rb - 1] == 1)[0]  # select even columns\n",
    "    bits_hat[index, rb:] = 1 - bits_hat[index, rb:]  # invert bits of high part (flip upside-down)\n",
    "    # Differential bit encoding, intermediate code => gray code (constellation-style)\n",
    "    for i in range(1, num_bits_per_symbol):  # b[i] = b[i] ^ b[i-1]\n",
    "        output_bit[:, i] = np.logical_xor(bits_hat[:, i], bits_hat[:, i - 1])\n",
    "    # calc BER\n",
    "    ber = np.mean(bits_constellation != output_bit)\n",
    "    return ber\n",
    "\n",
    "\n",
    "class Judger:\n",
    "\n",
    "    def __init__(self, test_cases):\n",
    "        self.test_cases = test_cases\n",
    "\n",
    "    @staticmethod\n",
    "    def infer(ising_generator, qaia_mld_solver, H, y, num_bits_per_symbol, snr):\n",
    "        J, h = ising_generator(H, y, num_bits_per_symbol, snr)\n",
    "        bits, energy = qaia_mld_solver(J, h, run_cfg, DU_SB_weights)\n",
    "        return bits\n",
    "\n",
    "    def benchmark(self, ising_gen, qaia_mld_solver):\n",
    "        from collections import defaultdict\n",
    "        ber_list = []\n",
    "        ZF_ber_list = []\n",
    "        avgber_per_Nt = defaultdict(list)\n",
    "        avgber_per_snr = defaultdict(list)\n",
    "        avgber_per_nbps = defaultdict(list)\n",
    "\n",
    "        avgber = 0\n",
    "\n",
    "        t1 = time()\n",
    "        for i, case in enumerate(tqdm(self.test_cases)):\n",
    "            H, y, bits_truth, num_bits_per_symbol, snr, ZF_ber = case\n",
    "            bits_decode = self.infer(ising_gen, qaia_mld_solver, H, y, num_bits_per_symbol, snr)\n",
    "            ber = compute_ber(bits_decode, bits_truth)\n",
    "            avgber += ber\n",
    "            print(f'[case {i}] ber: {ber}, ref_ber: {ZF_ber}')\n",
    "\n",
    "            ber_list.append(ber)\n",
    "            ZF_ber_list.append(ZF_ber)\n",
    "            # avgber_per_Nt[H.shape[1]].append(ber)\n",
    "            # avgber_per_snr[snr].append(ber)\n",
    "            # avgber_per_nbps[num_bits_per_symbol].append(ber)\n",
    "        t2 = time()\n",
    "\n",
    "        # print('>> avgber_per_Nt:')\n",
    "        # for Nt in sorted(avgber_per_Nt):\n",
    "        #     print(f'  {Nt}: {np.asarray(avgber_per_Nt[Nt]).mean()}')\n",
    "        # print('>> avgber_per_snr:')\n",
    "        # for snr in sorted(avgber_per_snr):\n",
    "        #     print(f'  {snr}: {np.asarray(avgber_per_snr[snr]).mean()}')\n",
    "        # print('>> avgber_per_nbps:')\n",
    "        # for nbps in sorted(avgber_per_nbps):\n",
    "        #     print(f'  {nbps}: {np.asarray(avgber_per_nbps[nbps]).mean()}')\n",
    "\n",
    "        global run_cfg\n",
    "        avgsbber = 0\n",
    "        run_cfg = 'baseline'\n",
    "        sbber_list = []\n",
    "        t3 = time()\n",
    "        for i, case in enumerate(tqdm(self.test_cases)):\n",
    "            H, y, bits_truth, num_bits_per_symbol, snr, ZF_ber = case\n",
    "            sbbits_decode = self.infer(ising_gen, qaia_mld_solver, H, y, num_bits_per_symbol, snr)\n",
    "            sbber = compute_ber(sbbits_decode, bits_truth)\n",
    "            avgsbber += sbber\n",
    "            print(f'[case {i}] ber: {avgsbber}, ref_ber: {ZF_ber}')\n",
    "            sbber_list.append(sbber)\n",
    "        t4 = time()\n",
    "\n",
    "        # print(f'>> avgber_ZF:{sum(ZF_ber_list)/len(ZF_ber_list)}')\n",
    "\n",
    "        if 'plot':\n",
    "            from pathlib import Path\n",
    "            BASE_PATH = Path.cwd()\n",
    "            LOG_PATH = BASE_PATH / 'log';\n",
    "            LOG_PATH.mkdir(exist_ok=True)\n",
    "            pairs = list(zip(ZF_ber_list, ber_list, sbber_list))\n",
    "            pairs.sort(reverse=True)  # decrease order by ZF_ber\n",
    "            ber_list = [ber for ZF_ber, ber, sbber in pairs]\n",
    "            sbber_list = [sbber for ZF_ber, ber, sbber in pairs]\n",
    "            ZF_ber_list = [ZF_ber for ZF_ber, ber, sbber in pairs]\n",
    "            plt.plot(ber_list, label='DUSB')\n",
    "            plt.plot(sbber_list, label='SB')\n",
    "            plt.plot(ZF_ber_list, label='ZF')\n",
    "            plt.ylim(0, 0.55)\n",
    "            plt.legend()\n",
    "            plt.suptitle('BER')\n",
    "            plt.tight_layout()\n",
    "            plt.savefig(LOG_PATH / 'solut.png', dpi=400)\n",
    "            plt.show()\n",
    "            plt.close()\n",
    "\n",
    "        avgber /= len(self.test_cases)\n",
    "        avgsbber /= len(self.test_cases)\n",
    "        tt1 = t2 - t1\n",
    "        tt2 = t4 - t3\n",
    "        return avgber, avgsbber, tt1, tt2\n",
    "\n",
    "if __name__ == \"__main__\":\n",
    "    from main import ising_generator, qaia_mld_solver\n",
    "\n",
    "    dataset = []\n",
    "    filelist = glob(f'MLD_data/*.pickle')\n",
    "    for filename in filelist:\n",
    "        with open(filename, 'rb') as fh:\n",
    "            data = pickle.load(fh)\n",
    "        dataset.append([data['H'], data['y'], data['bits'], data['num_bits_per_symbol'], data['SNR'], data['ZF_ber']])\n",
    "\n",
    "    judger = Judger(dataset)\n",
    "\n",
    "    avgber, avgsbber, tt1, tt2 = judger.benchmark(ising_generator, qaia_mld_solver)\n",
    "    print(f'>> Method: DUSB')\n",
    "    print(f'>> time cost: {tt1:.2f}')\n",
    "    print(f\">> avg. BER = {avgber:.5f}\")\n",
    "    print(f'>> Method: BSB')\n",
    "    print(f'>> time cost: {tt2:.2f}')\n",
    "    print(f\">> avg. BER = {avgsbber:.5f}\")"
   ]
  }
 ],
 "metadata": {
  "kernelspec": {
   "display_name": "Python 3",
   "language": "python",
   "name": "python3"
  },
  "language_info": {
   "codemirror_mode": {
    "name": "ipython",
    "version": 2
   },
   "file_extension": ".py",
   "mimetype": "text/x-python",
   "name": "python",
   "nbconvert_exporter": "python",
   "pygments_lexer": "ipython2",
   "version": "2.7.6"
  }
 },
 "nbformat": 4,
 "nbformat_minor": 5
}
